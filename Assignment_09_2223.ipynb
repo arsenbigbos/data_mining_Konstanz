{
 "cells": [
  {
   "cell_type": "markdown",
   "metadata": {
    "id": "1_5EddyRQLrZ"
   },
   "source": [
    "Data Mining: Basic Concepts - WS'22/23\n",
    "---------------\n",
    "``` \n",
    "> University of Konstanz \n",
    "> Department of Computer and Information Science\n",
    "> Prof. Dr. Daniel Keim, Eren Cakmak, Raphael Buchmüller, Udo Schlegel, Yannick Metz\n",
    "```\n",
    "__Organize in teams of 2 people, return the exercise by Sun, Jan 22th, 2022 (11:59 PM) using ILIAS__"
   ]
  },
  {
   "cell_type": "markdown",
   "metadata": {
    "id": "gTiBbv4PQLrg"
   },
   "source": [
    "---"
   ]
  },
  {
   "cell_type": "markdown",
   "metadata": {
    "id": "IGEgwaxBQLrh"
   },
   "source": [
    "Assignment 09 in Python\n",
    "---------------\n",
    "- ___Please put your names and student IDs here___:\n",
    "    - _Name_, _Student ID_ Arsen Ukrainets, Matriculation No.1296653\n",
    "    - _Name_, _Student ID_ Serhii Kovalov "
   ]
  },
  {
   "cell_type": "markdown",
   "metadata": {
    "id": "_CDAhvR1QLrh"
   },
   "source": [
    "---"
   ]
  },
  {
   "cell_type": "markdown",
   "metadata": {
    "id": "6sU0LuV4QLri"
   },
   "source": [
    "#### Exercise 1:  K-means (6P)\n",
    "\n",
    "Perform k-means clustering with k=3 using the Euclidean distance by hand. Assume that initial clusters centroids are:\n",
    "\n",
    "* Cluster 1: Record # 3\n",
    "* Cluster 2: Record # 8\n",
    "* Cluster 3: Record # 9\n",
    "\n",
    "Compute for every iteration the updated cluster prototypes and state to which cluster each point is assigned after each iteration. \n",
    "\n",
    "_Note: In this exercise, you don’t need to normalize the data._"
   ]
  },
  {
   "cell_type": "markdown",
   "metadata": {
    "id": "b1iGfiz_QLrj"
   },
   "source": [
    "|ID|X1|X2|X3|X4|X5|\n",
    "|-----|--------|-----------|-----------------|--------------|----|\n",
    "|1|0.58|0.26|0.38|0.60|0.65|\n",
    "|2|0.50|0.21|0.34|0.61|0.61|\n",
    "|3|0.10|0.16|0.15|0.28|0.31|\n",
    "|4|0.51|0.29|0.37|0.54|0.69|\n",
    "|5|0.18|0.23|0.62|0.25|0.26|\n",
    "|6|0.12|0.23|0.18|0.30|0.25|\n",
    "|7|0.90|0.45|0.75|0.30|0.63|\n",
    "|8|0.84|0.25|0.65|0.59|0.64|\n",
    "|9|0.92|0.80|0.70|0.60|0.61|\n",
    "|10|0.91|0.83|0.81|0.55|0.46|"
   ]
  },
  {
   "cell_type": "markdown",
   "metadata": {
    "id": "wfDagsppQLrj"
   },
   "source": [
    "_(Hint: you can use the ``![](imagename.png)`` to include a image in a markdown cell. You can use this to include a hand written calculation. Do not forget to also upload the image in your final submission.)_"
   ]
  },
  {
   "cell_type": "markdown",
   "metadata": {
    "id": "9_uK2PgVQLrk"
   },
   "source": [
    "```\n",
    "> Your Answer\n",
    "```"
   ]
  },
  {
   "cell_type": "markdown",
   "metadata": {},
   "source": [
    "1st Iteration:\n",
    "\n",
    "Cluster 1: Record # 3 (initial centroid)\n",
    "Cluster 2: Record # 8 (initial centroid)\n",
    "Cluster 3: Record # 9 (initial centroid)\n",
    "Assign each record to the closest centroid:\n",
    "\n",
    "Record #1 assigned to Cluster 2\n",
    "Record #2 assigned to Cluster 2\n",
    "Record #3 assigned to Cluster 1 (already the centroid)\n",
    "Record #4 assigned to Cluster 2\n",
    "Record #5 assigned to Cluster 1\n",
    "Record #6 assigned to Cluster 1\n",
    "Record #7 assigned to Cluster 3\n",
    "Record #8 assigned to Cluster 2 (already the centroid)\n",
    "Record #9 assigned to Cluster 3 (already the centroid)\n",
    "Record #10 assigned to Cluster 3\n",
    "Update the centroid of each cluster:\n",
    "\n",
    "Cluster 1: [0.18, 0.23, 0.37, 0.28, 0.26] (average of record #5, #6)\n",
    "Cluster 2: [0.58, 0.26, 0.38, 0.60, 0.65] (average of record #1, #2, #4)\n",
    "Cluster 3: [0.91, 0.83, 0.75, 0.60, 0.56] (average of record #7, #9, #10)\n",
    "2nd Iteration:\n",
    "\n",
    "Cluster 1: [0.18, 0.23, 0.37, 0.28, 0.26] (updated centroid)\n",
    "Cluster 2: [0.58, 0.26, 0.38, 0.60, 0.65] (updated centroid)\n",
    "Cluster 3: [0.91, 0.83, 0.75, 0.60, 0.56] (updated centroid)\n",
    "Assign each record to the closest centroid:\n",
    "\n",
    "Record #1 assigned to Cluster 2\n",
    "Record #2 assigned to Cluster 2\n",
    "Record #3 assigned to Cluster 1\n",
    "Record #4 assigned to Cluster 2\n",
    "Record #5 assigned to Cluster 1\n",
    "Record #6 assigned to Cluster 1\n",
    "Record #7 assigned to Cluster 3\n",
    "Record #8 assigned to Cluster 2\n",
    "Record #9 assigned to Cluster 3\n",
    "Record #10 assigned to Cluster 3\n",
    "Update the centroid of each cluster:\n",
    "\n",
    "Cluster 1: [0.18, 0.23, 0.37, 0.28, 0.26] (no change)\n",
    "Cluster 2: [0.58, 0.26, 0.38, 0.60, 0.65] (no change)\n",
    "Cluster 3: [0.91, 0.83, 0.75, 0.60, 0.56] (no change)\n",
    "3rd Iteration:\n",
    "\n",
    "Cluster 1: [0.18, 0.23, 0.37, 0.28, 0.26] (no change)\n",
    "Cluster 2: [0.58, 0.26, 0.38, 0.60, 0.65] (no change)\n",
    "Cluster 3: [0.91, 0.83, 0.75, 0.60, 0.56] (no change)\n",
    "Assign each record to the closest centroid:\n",
    "\n",
    "Record #1 assigned to Cluster 2\n",
    "Record #2 assigned to Cluster 2\n",
    "Record #3 assigned to Cluster 1\n",
    "Record #4 assigned to Cluster 2\n",
    "Record #5 assigned to Cluster 1\n",
    "Record #6 assigned to Cluster 1\n",
    "Record #7 assigned to Cluster 3"
   ]
  },
  {
   "cell_type": "markdown",
   "metadata": {
    "id": "nwr9eTWVQLrk"
   },
   "source": [
    "#### Exercise 2: Partitioning Around Medoids (PAM) (10P)\n",
    "\n",
    "Load the `USArrests.csv` dataset and the following methods which can be used to compute PAM. Please install the `pyclustering` package. \n",
    "\n",
    "_(Hint: Use only the following imports)_"
   ]
  },
  {
   "cell_type": "code",
   "execution_count": 161,
   "metadata": {
    "colab": {
     "base_uri": "https://localhost:8080/"
    },
    "id": "QfXP0BvkQLrl",
    "outputId": "fc927691-18dd-4976-fe45-f90afb71f6fe"
   },
   "outputs": [],
   "source": [
    "import pandas as pd \n",
    "import numpy as np \n",
    "from pyclustering.cluster.kmedoids import kmedoids\n",
    "from scipy.spatial.distance import pdist, cdist, squareform\n",
    "import matplotlib.pyplot as plt\n",
    "from random import randrange"
   ]
  },
  {
   "cell_type": "code",
   "execution_count": 240,
   "metadata": {
    "id": "QuvqN-eSQLrl"
   },
   "outputs": [],
   "source": [
    "df = pd.read_csv('USArrests.csv')"
   ]
  },
  {
   "cell_type": "markdown",
   "metadata": {
    "id": "gqiMDEQgQLrm"
   },
   "source": [
    "##### __(a) Standardize the columns of the \"USArrests\" dataset. Explain why we have to standardize the dataset?__"
   ]
  },
  {
   "cell_type": "markdown",
   "metadata": {
    "id": "9_uK2PgVQLrk"
   },
   "source": [
    "```\n",
    "ANSWER : if we use the euclidian distance, then the results of calculations influenced by unusual data.\n",
    "```"
   ]
  },
  {
   "cell_type": "code",
   "execution_count": 241,
   "metadata": {},
   "outputs": [],
   "source": [
    "df_new = df.drop(['State'], axis=1)\n",
    "df_new['UrbanPop'] = (df_new['UrbanPop'] - df_new['UrbanPop'].mean()) / df_new['UrbanPop'].std()\n",
    "df_new['Assault'] = (df_new['Assault'] - df_new['Assault'].mean()) / df_new['Assault'].std()\n",
    "df_new['Murder'] = (df_new['Murder'] - df_new['Murder'].mean()) / df_new['Murder'].std()\n",
    "df_new['Rape'] = (df_new['Rape'] - df_new['Rape'].mean()) / df_new['Rape'].std()"
   ]
  },
  {
   "cell_type": "markdown",
   "metadata": {
    "id": "g0aBpQayQLro"
   },
   "source": [
    "##### __(b)Compute the PAM (`kmedoids`) using `k = 3`. List the cluster and cluster medoids. Describe and explain the results.__"
   ]
  },
  {
   "cell_type": "markdown",
   "metadata": {
    "id": "9_uK2PgVQLrk"
   },
   "source": [
    "```\n",
    "ANSWER : in result we got 3 clusters with certain data points in them. Each element of cluster has a low value to their methodoids.\n",
    "```"
   ]
  },
  {
   "cell_type": "code",
   "execution_count": 260,
   "metadata": {},
   "outputs": [
    {
     "name": "stdout",
     "output_type": "stream",
     "text": [
      "Clusters : [[0, 1, 2, 4, 5, 8, 9, 12, 17, 19, 21, 23, 27, 30, 31, 32, 39, 41, 42], [11, 14, 18, 22, 28, 33, 40, 44, 47, 48], [3, 6, 7, 10, 13, 15, 16, 20, 24, 25, 26, 29, 34, 35, 36, 37, 38, 43, 45, 46, 49]]\n",
      "Medoids : [30, 28, 35]\n"
     ]
    }
   ],
   "source": [
    "medoids_list = []\n",
    "medoids_list.append(randrange(start=0, stop=len(df_new.index) - 1))\n",
    "medoids_list.append(randrange(start=0, stop=len(df_new.index) - 1))\n",
    "medoids_list.append(randrange(start=0, stop=len(df_new.index) - 1))\n",
    "kmedoids_instance = kmedoids(df_new.values.tolist(), medoids_list)\n",
    "kmedoids_instance.process()\n",
    "clusters = kmedoids_instance.get_clusters()\n",
    "medoids = kmedoids_instance.get_medoids()\n",
    "print(\"Clusters : \" + str(clusters))\n",
    "print(\"Medoids : \" + str(medoids))\n"
   ]
  },
  {
   "cell_type": "markdown",
   "metadata": {
    "id": "3JvsvTf9QLrq"
   },
   "source": [
    "##### __(c) Define a Python method to compute the measure for the compactness of a PAM clustering. The parameters of the method is the data and the instance of the kmedoids class (`kmedoids_instance`).__\n",
    "\n",
    "$$TD=\\sum\\limits^k_{i = 1} TD(C_i) \\text{ and } TD(C) = \\sum\\limits_{p \\in C} dist(p, m_c)$$\n",
    "\n",
    "The medoid $m_c$ is the representative element of the cluster. \n",
    "\n",
    "_(Hint: Use the `pdist` or `cdist` method to compute the pairwise distance between $p$ and $m_c$)_"
   ]
  },
  {
   "cell_type": "code",
   "execution_count": 259,
   "metadata": {},
   "outputs": [],
   "source": [
    "def compute_pam_clustering_measure(data, kmedoids_instance): \n",
    "    td = 0\n",
    "    for k in kmedoids_instance.get_medoids():\n",
    "        dist = 0\n",
    "        for p in range(len(data.index)):\n",
    "            dist += cdist(pd.Series.to_frame(data.iloc[p]), pd.Series.to_frame(data.iloc[k]))\n",
    "        td += dist\n",
    "    return td.sum()"
   ]
  },
  {
   "cell_type": "markdown",
   "metadata": {
    "id": "utYIz8teQLrq"
   },
   "source": [
    "##### __(d) Use the newly defined function to compute TD of PAM $k = 3$.__"
   ]
  },
  {
   "cell_type": "code",
   "execution_count": 261,
   "metadata": {},
   "outputs": [
    {
     "data": {
      "text/plain": [
       "2602.337965962005"
      ]
     },
     "execution_count": 261,
     "metadata": {},
     "output_type": "execute_result"
    }
   ],
   "source": [
    "compute_pam_clustering_measure(df_new, kmedoids_instance)"
   ]
  },
  {
   "cell_type": "markdown",
   "metadata": {
    "id": "V7loFmZ1QLrr"
   },
   "source": [
    "##### __(e) Compute the TD's for PAM with $k = 1, \\dots, 10$ and plot the results. Explain the results of the plot.__"
   ]
  },
  {
   "cell_type": "markdown",
   "metadata": {
    "id": "9_uK2PgVQLrk"
   },
   "source": [
    "```\n",
    "ANSWER: we got a plot that shows that the compactness increases linearly depending on the value of k.\n",
    "```"
   ]
  },
  {
   "cell_type": "code",
   "execution_count": 251,
   "metadata": {},
   "outputs": [
    {
     "data": {
      "image/png": "[encoded data removed]",
      "text/plain": [
       "<Figure size 640x480 with 1 Axes>"
      ]
     },
     "metadata": {},
     "output_type": "display_data"
    }
   ],
   "source": [
    "measures = []\n",
    "for i in range(10):\n",
    "    medoids = []\n",
    "    for j in range(i + 1):\n",
    "        medoids.append(randrange(start = 0, stop = len(df_new.index) - 1))\n",
    "    kmedoids_instance = kmedoids(df_new.values.tolist(), medoids)\n",
    "    kmedoids_instance.process()\n",
    "    measures.append(compute_pam_clustering_measure(df_new, kmedoids_instance))\n",
    "plt.plot(measures)\n",
    "plt.show()"
   ]
  },
  {
   "cell_type": "markdown",
   "metadata": {
    "id": "zyNEPB5_QLrs"
   },
   "source": [
    "---"
   ]
  },
  {
   "cell_type": "markdown",
   "metadata": {
    "id": "rE1Uu0CrQLrs"
   },
   "source": [
    "#### Exercise 3: Expectation Maximization (EM) Algorithm (4P)\n",
    "\n",
    "The sklearn class `GaussianMixture` can be used to compute the EM algorithm. "
   ]
  },
  {
   "cell_type": "code",
   "execution_count": 293,
   "metadata": {
    "id": "F_-4nf_OQLrt"
   },
   "outputs": [],
   "source": [
    "import numpy as np\n",
    "import pandas as pd\n",
    "import matplotlib.pyplot as plt\n",
    "\n",
    "from sklearn.mixture import GaussianMixture"
   ]
  },
  {
   "cell_type": "markdown",
   "metadata": {
    "id": "T1XF1RAaQLrt"
   },
   "source": [
    "##### __(a) Cluster the `em-data.csv` data. Describe each step and reason your parameter choices.__"
   ]
  },
  {
   "cell_type": "markdown",
   "metadata": {
    "id": "9_uK2PgVQLrk"
   },
   "source": [
    "```\n",
    "1. Read data.\n",
    "2. Convert to an array for plotting.\n",
    "3. Create GM-model with n_components = 4, because on the plot you can see 3 areas with the high density of points and fev outliers.\n",
    "4. Fit the model.\n",
    "5. Predict labels.\n",
    "6. Plot the results.\n",
    "```"
   ]
  },
  {
   "cell_type": "code",
   "execution_count": 314,
   "metadata": {},
   "outputs": [],
   "source": [
    "df = pd.read_csv('em-data.csv')\n",
    "X = np.array(df)\n",
    "gm = GaussianMixture(n_components = 4).fit(df)\n",
    "labels = gm.predict(df)"
   ]
  },
  {
   "cell_type": "markdown",
   "metadata": {
    "id": "NpVLgoXaQLrv"
   },
   "source": [
    "##### __(b) Visualize your results in a 2D plot.__"
   ]
  },
  {
   "cell_type": "code",
   "execution_count": 315,
   "metadata": {},
   "outputs": [
    {
     "data": {
      "text/plain": [
       "<matplotlib.collections.PathCollection at 0x255c34eddb0>"
      ]
     },
     "execution_count": 315,
     "metadata": {},
     "output_type": "execute_result"
    },
    {
     "data": {
      "image/png": "[encoded data removed]",
      "text/plain": [
       "<Figure size 640x480 with 1 Axes>"
      ]
     },
     "metadata": {},
     "output_type": "display_data"
    }
   ],
   "source": [
    "plt.scatter(X[:, 0], X[:, 1], c = labels, cmap = 'viridis')"
   ]
  },
  {
   "cell_type": "markdown",
   "metadata": {
    "id": "5F9u__v3QLrw"
   },
   "source": [
    "---"
   ]
  }
 ],
 "metadata": {
  "colab": {
   "collapsed_sections": [],
   "name": "Assignment_08.ipynb",
   "provenance": [],
   "toc_visible": true
  },
  "kernelspec": {
   "display_name": "Python 3 (ipykernel)",
   "language": "python",
   "name": "python3"
  },
  "language_info": {
   "codemirror_mode": {
    "name": "ipython",
    "version": 3
   },
   "file_extension": ".py",
   "mimetype": "text/x-python",
   "name": "python",
   "nbconvert_exporter": "python",
   "pygments_lexer": "ipython3",
   "version": "3.9.13"
  },
  "vscode": {
   "interpreter": {
    "hash": "b382e49af45b32b9c244e228c2040fb069510ba30aabe894f1867757942ccf2d"
   }
  }
 },
 "nbformat": 4,
 "nbformat_minor": 4
}
